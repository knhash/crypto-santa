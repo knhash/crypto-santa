{
 "cells": [
  {
   "cell_type": "code",
   "execution_count": null,
   "metadata": {},
   "outputs": [],
   "source": [
    "# from IPython.core.interactiveshell import InteractiveShell\n",
    "# InteractiveShell.ast_node_interactivity = \"all\""
   ]
  },
  {
   "cell_type": "code",
   "execution_count": null,
   "metadata": {},
   "outputs": [],
   "source": [
    "# %pip install streamlit\n",
    "# %pip install face_recognition"
   ]
  },
  {
   "cell_type": "code",
   "execution_count": null,
   "metadata": {},
   "outputs": [],
   "source": [
    "import streamlit as st\n",
    "import numpy as np\n",
    "from datetime import datetime\n",
    "import pickle \n",
    "from os.path import exists, getmtime\n",
    "import binascii"
   ]
  },
  {
   "cell_type": "code",
   "execution_count": null,
   "metadata": {},
   "outputs": [],
   "source": [
    "from cryptography.hazmat.primitives import serialization, hashes\n",
    "from cryptography.hazmat.primitives.asymmetric import rsa, padding\n",
    "\n",
    "def get_keys(name):\n",
    "\n",
    "    # Generate private key\n",
    "    private_key = rsa.generate_private_key(\n",
    "        public_exponent=65537,\n",
    "        key_size=2048,\n",
    "    )\n",
    "\n",
    "    # Generate public key\n",
    "    public_key = private_key.public_key()\n",
    "\n",
    "    # Serialize private key\n",
    "    pem = private_key.private_bytes(\n",
    "        encoding=serialization.Encoding.PEM,\n",
    "        format=serialization.PrivateFormat.PKCS8,\n",
    "        encryption_algorithm=serialization.NoEncryption()\n",
    "    )\n",
    "\n",
    "    # print(pem.decode())\n",
    "\n",
    "    private_key_str = name + \"///////\" + pem.decode()\n",
    "\n",
    "    # Serialize public key\n",
    "    pem = public_key.public_bytes(\n",
    "        encoding=serialization.Encoding.PEM,\n",
    "        format=serialization.PublicFormat.SubjectPublicKeyInfo\n",
    "    )\n",
    "\n",
    "    # print(pem.decode())\n",
    "\n",
    "    public_key_str = name + \"///////\" + pem.decode()\n",
    "\n",
    "    return private_key_str, public_key_str\n",
    "    "
   ]
  },
  {
   "cell_type": "code",
   "execution_count": null,
   "metadata": {},
   "outputs": [],
   "source": [
    "def generate_santas(public_keys):\n",
    "    users = public_keys.split(\"\\n\\n\")\n",
    "    user_key = {user.split(\"///////\")[0]:user.split(\"///////\")[1] for user in users}\n",
    "    # print(user_key)\n",
    "\n",
    "    # Pick the user first in ascending order of name\n",
    "    first_user = sorted(user_key.keys())[0]\n",
    "\n",
    "    # Use that user as the seed for the random number generator\n",
    "    np.random.seed(int(first_user, 36)%2**31)\n",
    "\n",
    "    # Generate random order\n",
    "    names = list(user_key.keys())\n",
    "    np.random.shuffle(names)\n",
    "\n",
    "    # Generate santas\n",
    "    santas = {}\n",
    "    for i in range(len(names)):\n",
    "        santas[names[i]] = names[(i+1)%len(names)]\n",
    "\n",
    "    # Encrypt santas\n",
    "    encrypted_santas = []\n",
    "    for name in names:\n",
    "\n",
    "        # Get public key\n",
    "        public_key_str = user_key[name]\n",
    "\n",
    "        public_key = serialization.load_pem_public_key(\n",
    "            public_key_str.encode(),\n",
    "            backend=None\n",
    "        )\n",
    "\n",
    "        print(santas[name])\n",
    "\n",
    "        # Encrypt the santa\n",
    "        encrypted_santa = public_key.encrypt(\n",
    "            santas[name].encode(),\n",
    "            padding.OAEP(mgf=padding.MGF1(algorithm=hashes.SHA256()),\n",
    "                algorithm=hashes.SHA256(),\n",
    "                label=None\n",
    "                )\n",
    "        )\n",
    "\n",
    "        # Add to list\n",
    "        \n",
    "        encrypted_santas.append(binascii.hexlify(encrypted_santa))\n",
    "\n",
    "\n",
    "    return encrypted_santas\n",
    "# generate_santas(public_keys=test_set)"
   ]
  },
  {
   "cell_type": "code",
   "execution_count": null,
   "metadata": {},
   "outputs": [],
   "source": [
    "def find_your_santa(private_key_str, encrypted_santas):\n",
    "    # Get private key\n",
    "    private_key_str = private_key_str.split(\"///////\")[1]\n",
    "    private_key = serialization.load_pem_private_key(\n",
    "        private_key_str.encode(),\n",
    "        password=None,\n",
    "        backend=None\n",
    "    )\n",
    "\n",
    "    # Decrypt santas\n",
    "    santas = [] \n",
    "    encrypted_santas = encrypted_santas.split(\"\\n\\n\")\n",
    "\n",
    "    for encrypted_santa in encrypted_santas:\n",
    "            \n",
    "        try:\n",
    "        # Decrypt the santa\n",
    "            santa = private_key.decrypt(\n",
    "                binascii.unhexlify(encrypted_santa),\n",
    "                padding.OAEP(mgf=padding.MGF1(algorithm=hashes.SHA256()),\n",
    "                    algorithm=hashes.SHA256(),\n",
    "                    label=None\n",
    "                    )\n",
    "            )\n",
    "            santas.append(santa.decode())\n",
    "        except:\n",
    "            pass\n",
    "    \n",
    "            # Add to list\n",
    "            \n",
    "\n",
    "    return santas\n",
    "\n",
    "# find_your_santa(private_key_str, encrypted_santas)"
   ]
  },
  {
   "cell_type": "code",
   "execution_count": null,
   "metadata": {},
   "outputs": [],
   "source": [
    "st.set_page_config(\n",
    "    page_title=\"Crypto Santa\", \n",
    "    page_icon=\"🎅\", \n",
    "    layout=\"centered\", \n",
    "    initial_sidebar_state=\"collapsed\", \n",
    "    menu_items=None\n",
    "    )"
   ]
  },
  {
   "cell_type": "code",
   "execution_count": null,
   "metadata": {},
   "outputs": [],
   "source": [
    "st.title(\"⛄ Crypto ❄️ Santa 🎄\")"
   ]
  },
  {
   "cell_type": "code",
   "execution_count": null,
   "metadata": {},
   "outputs": [],
   "source": [
    "st.write(\"Secret Santa has a super neat feature: when played with chits of paper, the information of the total state of game - the overall Santa mapping - is never available to anyone.\")\n",
    "st.write(\"Let's overly complicate this.\")\n",
    "st.write(\"\")\n",
    "st.markdown(\"**...but also, treat this as a theoretical exercise in secure multiparty computation**\")"
   ]
  },
  {
   "cell_type": "code",
   "execution_count": null,
   "metadata": {},
   "outputs": [],
   "source": [
    "tab_keys = [\"🔔 Generate your keys\", \"🕯️ Associate all Santas\", \"🎁 Find your Sant-ee\", \"🍷 About\"]\n",
    "tabs = st.tabs(tab_keys)   "
   ]
  },
  {
   "cell_type": "code",
   "execution_count": null,
   "metadata": {},
   "outputs": [],
   "source": [
    "with tabs[0]:\n",
    "    st.subheader(tab_keys[0])\n",
    "    \n",
    "    with st.form(\"aaa\"):\n",
    "        name = st.text_input('Name')\n",
    "        name = name.upper().replace(\" \", \"_\")\n",
    "        submitted = st.form_submit_button(label='Submit')\n",
    "        if submitted:\n",
    "            private_key, public_key = get_keys(name)\n",
    "\n",
    "            st.write('Your private key is: ')\n",
    "            st.code(private_key)\n",
    "            st.write('Your public key is: ')\n",
    "            st.code(public_key)\n",
    "\n",
    "    "
   ]
  },
  {
   "cell_type": "code",
   "execution_count": null,
   "metadata": {},
   "outputs": [],
   "source": [
    "with tabs[1]:\n",
    "    st.subheader(tab_keys[1])\n",
    "    with st.form(\"bbb\"):\n",
    "        public_keys = st.text_area('Public Keys, seprated by new line')\n",
    "\n",
    "        # Every form must have a submit button.\n",
    "        submitted = st.form_submit_button(\"Submit\")\n",
    "        if submitted:\n",
    "            encrypted_santas = generate_santas(public_keys)\n",
    "            display_codes = \"\"\n",
    "            for santa in encrypted_santas:\n",
    "                display_codes = display_codes + santa.decode('ascii') + \"\\n\\n\"\n",
    "            st.code(display_codes)\n"
   ]
  },
  {
   "cell_type": "code",
   "execution_count": null,
   "metadata": {},
   "outputs": [],
   "source": [
    "with tabs[2]:\n",
    "    st.subheader(tab_keys[2])\n",
    "    with st.form(\"ccc\"):\n",
    "        private_key_str = st.text_area('Your Private Key')\n",
    "        encrypted_santas = st.text_area('Encrypted Santas')\n",
    "\n",
    "        # Every form must have a submit button.\n",
    "        submitted = st.form_submit_button(\"Submit\")\n",
    "        if submitted:\n",
    "            santas = find_your_santa(private_key_str, encrypted_santas)\n",
    "            st.code(santas)\n"
   ]
  },
  {
   "cell_type": "code",
   "execution_count": null,
   "metadata": {},
   "outputs": [],
   "source": [
    "with tabs[3]:\n",
    "    st.subheader(tab_keys[3])\n",
    "    st.write(\"\"\"\n",
    "    This is an overly complicated rendition of the meat-space tradition of Secret Santa.\n",
    "    It uses RSA encryption to allow you to assign secret santas to a group of people without\n",
    "    anyone knowing who anyone else is the secret santa for.\n",
    "             \n",
    "    The first step is to generate your keys. You can do this by entering your name in the box\n",
    "    and clicking submit. This will generate your public and private keys. You should share your\n",
    "    public key with the person who is assigning the secret santas or on a common public. You should keep your private key\n",
    "    secret.\n",
    "    \n",
    "    The second step is to assign all the secret santas. The person who is assigning the secret santas should\n",
    "    collect all the public keys and enter them into the box. Clicking submit will generate a list of encrypted\n",
    "    santas. This is sent on a common, public channel.\n",
    "    \n",
    "    The third step is to find out who you are the santa for. You should enter your private key and all the\n",
    "    encrypted santas you have received. Clicking submit will decrypt the santas and tell you who you are the\n",
    "    santa for.  \n",
    "    \"\"\")"
   ]
  },
  {
   "cell_type": "code",
   "execution_count": null,
   "metadata": {},
   "outputs": [],
   "source": [
    "st.markdown(\"---\")\n",
    "st.caption(\"complicated lovingly by [knhash](https://knhash.in)\")"
   ]
  }
 ],
 "metadata": {
  "kernelspec": {
   "display_name": "wazir",
   "language": "python",
   "name": "python3"
  },
  "language_info": {
   "codemirror_mode": {
    "name": "ipython",
    "version": 3
   },
   "file_extension": ".py",
   "mimetype": "text/x-python",
   "name": "python",
   "nbconvert_exporter": "python",
   "pygments_lexer": "ipython3",
   "version": "3.9.6"
  },
  "orig_nbformat": 4
 },
 "nbformat": 4,
 "nbformat_minor": 2
}
